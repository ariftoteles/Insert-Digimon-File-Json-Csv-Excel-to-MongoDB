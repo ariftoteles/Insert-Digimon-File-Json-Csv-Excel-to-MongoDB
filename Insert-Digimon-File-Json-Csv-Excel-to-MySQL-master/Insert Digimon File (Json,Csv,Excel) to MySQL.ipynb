{
 "cells": [
  {
   "cell_type": "code",
   "execution_count": 4,
   "metadata": {},
   "outputs": [],
   "source": [
    "import mysql.connector\n",
    "\n",
    "mydb = mysql.connector.connect(\n",
    "    user = 'root',\n",
    "    password = '123465',\n",
    "    host = 'localhost',\n",
    "    database = 'digimon'\n",
    ")\n",
    "\n",
    "cursor = mydb.cursor()\n",
    "\n",
    "# create database\n",
    "# cursor.execute('CREATE DATABASE digimon')\n"
   ]
  },
  {
   "cell_type": "code",
   "execution_count": 5,
   "metadata": {},
   "outputs": [
    {
     "name": "stdout",
     "output_type": "stream",
     "text": [
      "341 Data tersimpan!\n"
     ]
    }
   ],
   "source": [
    "###############Json to MySQL #############################\n",
    "import json\n",
    "#create table for json table\n",
    "# cursor.execute('CREATE TABLE myDigimon (Id varchar(100),No varchar(100),Image varchar(100),Digimon varchar(100),Stage varchar(100),Tipe varchar(100),Attribute varchar(100),Memory varchar(100),Equip_Slots varchar(100),HP varchar(100),SP varchar(100),Atk varchar(100),Def varchar(100),Inte varchar(100),Spd varchar(100))') #create table\n",
    "# cursor.execute('DESCRIBE myDigimon') # describe your table\n",
    "# myTable = cursor.fetchall()\n",
    "# print(myTable)\n",
    "\n",
    "## Import Json as List of tuple\n",
    "with open('DigimonJson.json','r') as myJson:\n",
    "    data = json.load(myJson)\n",
    "# print(data)\n",
    "dataInsert = []\n",
    "for i in data:\n",
    "    x = i.values()\n",
    "    x = tuple(x)\n",
    "    dataInsert.append(x)\n",
    "# print(dataInsert)\n",
    "\n",
    "# ## Insert json into table myDigimon\n",
    "sql = 'INSERT INTO myDigimon (Id, No, Image, Digimon, Stage, Tipe, Attribute, Memory, Equip_Slots, HP, SP, Atk, Def, Inte, Spd) VALUES (%s,%s,%s,%s,%s,%s,%s,%s,%s,%s,%s,%s,%s,%s,%s)'\n",
    "val = dataInsert\n",
    "cursor.executemany(sql,val) \n",
    "mydb.commit() \n",
    "print(cursor.rowcount, \"Data tersimpan!\")\n"
   ]
  },
  {
   "cell_type": "code",
   "execution_count": 6,
   "metadata": {},
   "outputs": [
    {
     "name": "stdout",
     "output_type": "stream",
     "text": [
      "341 Data tersimpan!\n"
     ]
    }
   ],
   "source": [
    "###########CSV to MySQL#############################\n",
    "## Create table for csv\n",
    "# cursor.execute('CREATE TABLE myDigimon2 (No varchar(100),Image varchar(100),Digimon varchar(100),Stage varchar(100),Tipe varchar(100),Attribute varchar(100),Memory varchar(100),Equip_Slots varchar(100),HP varchar(100),SP varchar(100),Atk varchar(100),Def varchar(100),Inte varchar(100),Spd varchar(100))') #create table\n",
    "# cursor.execute('DESCRIBE myDigimon2') # describe your table\n",
    "# myTable = cursor.fetchall()\n",
    "# print(myTable)\n",
    "\n",
    "### Read CSV\n",
    "import csv\n",
    "with open('C:/Users/Asus/Documents/Data Science Purwadhika_M2/MySQL-Python/DigimonCsv.csv','r') as mycsv:\n",
    "    reader = csv.reader(mycsv, delimiter = ',')\n",
    "    reader = list(reader)\n",
    "datacsv = []\n",
    "for i in reader:\n",
    "    x = tuple(i)\n",
    "    datacsv.append(x)\n",
    "datacsv = datacsv[1:]\n",
    "\n",
    "# ## Insert json into table myDigimon2\n",
    "sql = 'INSERT INTO myDigimon2 (No, Image, Digimon, Stage, Tipe, Attribute, Memory, Equip_Slots, HP, SP, Atk, Def, Inte, Spd) VALUES (%s,%s,%s,%s,%s,%s,%s,%s,%s,%s,%s,%s,%s,%s)'\n",
    "val = datacsv\n",
    "cursor.executemany(sql,val) \n",
    "mydb.commit() \n",
    "print(cursor.rowcount, \"Data tersimpan!\")"
   ]
  },
  {
   "cell_type": "code",
   "execution_count": 7,
   "metadata": {},
   "outputs": [
    {
     "name": "stdout",
     "output_type": "stream",
     "text": [
      "341 Data tersimpan!\n"
     ]
    }
   ],
   "source": [
    "################# Excel to MySQL ##############################\n",
    "import xlrd \n",
    "\n",
    "myExcel = xlrd.open_workbook('C:/Users/Asus/Documents/Data Science Purwadhika_M2/MySQL-Python/Digimon.xlsx') \n",
    "sheet = myExcel.sheet_by_index(0)                   \n",
    "\n",
    "data = []\n",
    "for i in range(sheet.nrows): \n",
    "    data.append(sheet.row_values(i))\n",
    "data = data[1:]\n",
    "dataexcel = []\n",
    "for i in data:\n",
    "    x = tuple(i)\n",
    "    dataexcel.append(x)\n",
    "\n",
    "## Create table for excel\n",
    "# cursor.execute('CREATE TABLE myDigimon3 (No varchar(100),Image varchar(100),Digimon varchar(100),Stage varchar(100),Tipe varchar(100),Attribute varchar(100),Memory varchar(100),Equip_Slots varchar(100),HP varchar(100),SP varchar(100),Atk varchar(100),Def varchar(100),Inte varchar(100),Spd varchar(100))') #create table\n",
    "# cursor.execute('DESCRIBE myDigimon3') # describe your table\n",
    "# myTable = cursor.fetchall()\n",
    "# print(myTable)\n",
    "\n",
    "# # ## Insert json into table myDigimon3\n",
    "sql = 'INSERT INTO myDigimon3 (No, Image, Digimon, Stage, Tipe, Attribute, Memory, Equip_Slots, HP, SP, Atk, Def, Inte, Spd) VALUES (%s,%s,%s,%s,%s,%s,%s,%s,%s,%s,%s,%s,%s,%s)'\n",
    "val = dataexcel\n",
    "cursor.executemany(sql,val) \n",
    "mydb.commit() \n",
    "print(cursor.rowcount, \"Data tersimpan!\")"
   ]
  },
  {
   "cell_type": "code",
   "execution_count": null,
   "metadata": {},
   "outputs": [],
   "source": []
  }
 ],
 "metadata": {
  "kernelspec": {
   "display_name": "Python 3",
   "language": "python",
   "name": "python3"
  },
  "language_info": {
   "codemirror_mode": {
    "name": "ipython",
    "version": 3
   },
   "file_extension": ".py",
   "mimetype": "text/x-python",
   "name": "python",
   "nbconvert_exporter": "python",
   "pygments_lexer": "ipython3",
   "version": "3.7.4"
  }
 },
 "nbformat": 4,
 "nbformat_minor": 2
}
