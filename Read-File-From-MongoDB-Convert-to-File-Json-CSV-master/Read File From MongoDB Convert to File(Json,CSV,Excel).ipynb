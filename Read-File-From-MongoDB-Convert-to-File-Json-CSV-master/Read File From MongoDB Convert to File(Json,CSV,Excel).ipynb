{
 "cells": [
  {
   "cell_type": "code",
   "execution_count": 10,
   "metadata": {},
   "outputs": [],
   "source": [
    "import pymongo\n",
    "import json\n",
    "import csv\n",
    "\n",
    "urldb = \"mongodb://127.0.0.1:27017\"\n",
    "mongoku = pymongo.MongoClient(urldb)\n",
    "dbku = mongoku['digimon'] #use ptxyz\n",
    "colku = dbku['digimon']\n",
    "\n",
    "digimoN = list(colku.find())\n",
    "# print(digimoN)"
   ]
  },
  {
   "cell_type": "code",
   "execution_count": null,
   "metadata": {},
   "outputs": [],
   "source": [
    "## Convert to json\n",
    "# with open('DigimonFrMongo.json','w') as myJson:\n",
    "#     json.dump(digimoN, myJson, default=str)"
   ]
  },
  {
   "cell_type": "code",
   "execution_count": null,
   "metadata": {},
   "outputs": [],
   "source": [
    "## Convert to csv\n",
    "# with open('DigimonFrMongo.csv','a',newline='') as mycsv:\n",
    "#     writer = csv.DictWriter(mycsv, delimiter = ',',fieldnames=['_id','#','Image','Digimon','Stage','Type','Attribute','Memory','Equip Slots','HP','SP','Atk','Def','Int','Spd'])\n",
    "#     writer.writerows(digimoN)"
   ]
  },
  {
   "cell_type": "code",
   "execution_count": null,
   "metadata": {},
   "outputs": [],
   "source": []
  }
 ],
 "metadata": {
  "kernelspec": {
   "display_name": "Python 3",
   "language": "python",
   "name": "python3"
  },
  "language_info": {
   "codemirror_mode": {
    "name": "ipython",
    "version": 3
   },
   "file_extension": ".py",
   "mimetype": "text/x-python",
   "name": "python",
   "nbconvert_exporter": "python",
   "pygments_lexer": "ipython3",
   "version": "3.7.4"
  }
 },
 "nbformat": 4,
 "nbformat_minor": 2
}
