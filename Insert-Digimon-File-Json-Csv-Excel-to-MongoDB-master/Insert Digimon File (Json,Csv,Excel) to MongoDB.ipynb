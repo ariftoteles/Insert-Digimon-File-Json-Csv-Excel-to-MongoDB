{
 "cells": [
  {
   "cell_type": "code",
   "execution_count": 1,
   "metadata": {},
   "outputs": [],
   "source": [
    "import pymongo\n",
    "import json\n",
    "import csv\n",
    "\n",
    "urldb = \"mongodb://127.0.0.1:27017\"\n",
    "mongoku = pymongo.MongoClient(urldb)\n",
    "dbku = mongoku['digimon'] \n",
    "colku = dbku['digimon']\n"
   ]
  },
  {
   "cell_type": "code",
   "execution_count": 11,
   "metadata": {},
   "outputs": [],
   "source": [
    "# Insert from json file\n",
    "# with open('DigimonJson.json','r') as myJson:\n",
    "#     data = json.load(myJson)\n",
    "# print(data)\n",
    "\n",
    "# kirim = colku.insert_many(data)\n",
    "# print(kirim.inserted_ids)"
   ]
  },
  {
   "cell_type": "code",
   "execution_count": 13,
   "metadata": {},
   "outputs": [],
   "source": [
    "## Insert from CSV file\n",
    "# with open('C:/Users/Asus/Documents/Data Science Purwadhika_M2/MySQL-Python/DigimonCsv.csv','r') as mycsv:\n",
    "#     reader = csv.DictReader(mycsv, delimiter = ';')\n",
    "#     data = []\n",
    "#     for i in reader:\n",
    "#         data.append(dict(i))\n",
    "# kirim = colku.insert_many(data)\n",
    "# print(kirim.inserted_ids)"
   ]
  },
  {
   "cell_type": "code",
   "execution_count": 16,
   "metadata": {},
   "outputs": [],
   "source": [
    "## Insert from Excel file\n",
    "# ##Read Excel\n",
    "# import xlrd\n",
    "# myExcel = xlrd.open_workbook('DigimonExcel.xlsx') \n",
    "# sheet = myExcel.sheet_by_index(0)                   \n",
    "\n",
    "# ##======================================##\n",
    "# ##output list\n",
    "# data = []\n",
    "# for i in range(sheet.nrows): \n",
    "#     data.append(sheet.row_values(i))\n",
    "# ##======================================##\n",
    "# ##output convert to dictionary\n",
    "# outDict = []\n",
    "# for i in data:\n",
    "#     outDict.append(dict(zip(data[0], i)))\n",
    "# outDict = outDict[1:]\n",
    "\n",
    "# # kirim = colku.insert_many(outDict)\n",
    "# print(kirim.inserted_ids)"
   ]
  },
  {
   "cell_type": "code",
   "execution_count": null,
   "metadata": {},
   "outputs": [],
   "source": []
  }
 ],
 "metadata": {
  "kernelspec": {
   "display_name": "Python 3",
   "language": "python",
   "name": "python3"
  },
  "language_info": {
   "codemirror_mode": {
    "name": "ipython",
    "version": 3
   },
   "file_extension": ".py",
   "mimetype": "text/x-python",
   "name": "python",
   "nbconvert_exporter": "python",
   "pygments_lexer": "ipython3",
   "version": "3.7.4"
  }
 },
 "nbformat": 4,
 "nbformat_minor": 2
}
